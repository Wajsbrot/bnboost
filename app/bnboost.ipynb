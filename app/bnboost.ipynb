{
 "cells": [
  {
   "cell_type": "code",
   "execution_count": 1,
   "metadata": {
    "collapsed": true
   },
   "outputs": [],
   "source": [
    "import numpy as np\n",
    "import pandas as pd\n",
    "from math import isnan\n",
    "from sklearn.preprocessing import LabelEncoder\n",
    "from xgboost.sklearn import XGBClassifier\n",
    "import xgboost as xgb"
   ]
  },
  {
   "cell_type": "markdown",
   "metadata": {},
   "source": [
    "## Load data"
   ]
  },
  {
   "cell_type": "code",
   "execution_count": 2,
   "metadata": {
    "collapsed": false
   },
   "outputs": [],
   "source": [
    "df_train = pd.read_csv('../data/train_users_2.csv')#.set_index('id')\n",
    "n_train = df_train.shape[0]\n",
    "df_train.drop(['id'], axis=1, inplace=True)\n",
    "labels = df_train['country_destination'].values\n",
    "df_train.drop(['country_destination'], axis=1, inplace=True)\n",
    "\n",
    "df_test = pd.read_csv('../data/test_users.csv')#.set_index('id')\n",
    "id_test = df_test['id']\n",
    "\n",
    "df_all = pd.concat((df_train, df_test), axis=0, ignore_index=True)#.set_index('id')\n",
    "# df_all = df_all.fillna(-1)"
   ]
  },
  {
   "cell_type": "markdown",
   "metadata": {},
   "source": [
    "## Apply pre-treatment"
   ]
  },
  {
   "cell_type": "code",
   "execution_count": 3,
   "metadata": {
    "collapsed": false
   },
   "outputs": [
    {
     "name": "stderr",
     "output_type": "stream",
     "text": [
      "/home/thiebaut/anaconda/lib/python2.7/site-packages/pandas/core/common.py:449: FutureWarning: elementwise comparison failed; returning scalar instead, but in the future will perform elementwise comparison\n",
      "  mask = arr == x\n"
     ]
    }
   ],
   "source": [
    "def pretreat(df):\n",
    "    def group_rare_items(col, n_out=10, impute='rare_item'):\n",
    "        \"\"\" Give all rare items of a pandas Series the same name/value \"\"\"\n",
    "        val_counts = col.value_counts(normalize=True)\n",
    "        group = lambda x: x if pd.isnull(x) or x in val_counts[:n_out] else impute\n",
    "        return col.apply(group)\n",
    "    \n",
    "    df.replace('-unknown-', np.nan, inplace=True)\n",
    "    df.loc[df_all.age > 80, 'age'] = np.nan\n",
    "    df.loc[df_all.age < 18, 'age'] = np.nan\n",
    "    df['timestamp_first_active'] = pd.to_datetime(df.timestamp_first_active.astype(str), format='%Y%m%d%H%M%S')\n",
    "\n",
    "    #date_first_active = date_first_active.date # only keep date\n",
    "    df['date_account_created'] = pd.to_datetime(df['date_account_created'])#.dt #.date\n",
    "\n",
    "    for c in ['first_browser', 'affiliate_provider', 'signup_flow', 'language']:\n",
    "        df[c] = group_rare_items(df[c]) # 52 modalities to 10 \n",
    "        \n",
    "    # df.drop(['timestamp_first_active', 'date_account_created', 'date_first_booking'], axis=1, inplace=True)\n",
    "\n",
    "    \n",
    "pretreat(df_all)"
   ]
  },
  {
   "cell_type": "code",
   "execution_count": 8,
   "metadata": {
    "collapsed": false
   },
   "outputs": [
    {
     "data": {
      "text/plain": [
       "21    18111\n",
       "19    18025\n",
       "20    17749\n",
       "18    17651\n",
       "22    17613\n",
       "23    17205\n",
       "4     16088\n",
       "0     15885\n",
       "17    15725\n",
       "5     15397\n",
       "3     14738\n",
       "1     14431\n",
       "2     13910\n",
       "6     12475\n",
       "16    11997\n",
       "7      8475\n",
       "15     8025\n",
       "8      5137\n",
       "14     4825\n",
       "9      3266\n",
       "13     2821\n",
       "10     2188\n",
       "11     1928\n",
       "12     1882\n",
       "Name: timestamp_first_active, dtype: int64"
      ]
     },
     "execution_count": 8,
     "metadata": {},
     "output_type": "execute_result"
    }
   ],
   "source": [
    "df_all['timestamp_first_active'].dt.hour.value_counts()"
   ]
  },
  {
   "cell_type": "markdown",
   "metadata": {},
   "source": [
    "## Feature engineering"
   ]
  },
  {
   "cell_type": "code",
   "execution_count": 146,
   "metadata": {
    "collapsed": false
   },
   "outputs": [],
   "source": [
    "df_all['delta_create_active'] = (df_all['date_account_created']-df_all['timestamp_first_active']).dt.days\n",
    "# is_delta = delta_create_active.apply(lambda x: 1 if x > 0 else 0)\n",
    "# is_delta.name = 'is_delta'\n",
    "\n",
    "def split_dates(df, col_name):\n",
    "    date_col = pd.to_datetime(df[col_name]).dt\n",
    "    df[col_name + '_year'] = date_col.year\n",
    "    df[col_name + '_month'] = date_col.month\n",
    "    df[col_name + '_weekday'] = date_col.weekday\n",
    "\n",
    "split_dates(df_all, 'date_account_created')"
   ]
  },
  {
   "cell_type": "code",
   "execution_count": 149,
   "metadata": {
    "collapsed": false
   },
   "outputs": [],
   "source": [
    "df_all.drop(['timestamp_first_active', 'date_account_created', 'date_first_booking'], axis=1, inplace=True)"
   ]
  },
  {
   "cell_type": "code",
   "execution_count": 151,
   "metadata": {
    "collapsed": true
   },
   "outputs": [],
   "source": [
    "#One-hot-encoding features\n",
    "ohe_feats = ['gender', 'signup_method', 'signup_flow', 'language', 'affiliate_channel', 'affiliate_provider', 'first_affiliate_tracked', 'signup_app', 'first_device_type', 'first_browser']\n",
    "for f in ohe_feats:\n",
    "    df_all_dummy = pd.get_dummies(df_all[f], prefix=f, dummy_na=True)\n",
    "    df_all = df_all.drop([f], axis=1)\n",
    "    df_all = pd.concat((df_all, df_all_dummy), axis=1)"
   ]
  },
  {
   "cell_type": "code",
   "execution_count": 152,
   "metadata": {
    "collapsed": false
   },
   "outputs": [
    {
     "data": {
      "text/html": [
       "<div>\n",
       "<table border=\"1\" class=\"dataframe\">\n",
       "  <thead>\n",
       "    <tr style=\"text-align: right;\">\n",
       "      <th></th>\n",
       "      <th>id</th>\n",
       "      <th>age</th>\n",
       "      <th>delta_create_active</th>\n",
       "      <th>date_account_created_year</th>\n",
       "      <th>date_account_created_month</th>\n",
       "      <th>date_account_created_weekday</th>\n",
       "      <th>gender_FEMALE</th>\n",
       "      <th>gender_MALE</th>\n",
       "      <th>gender_OTHER</th>\n",
       "      <th>gender_nan</th>\n",
       "      <th>...</th>\n",
       "      <th>first_browser_Android Browser</th>\n",
       "      <th>first_browser_Chrome</th>\n",
       "      <th>first_browser_Chrome Mobile</th>\n",
       "      <th>first_browser_Firefox</th>\n",
       "      <th>first_browser_IE</th>\n",
       "      <th>first_browser_Mobile Safari</th>\n",
       "      <th>first_browser_Opera</th>\n",
       "      <th>first_browser_Safari</th>\n",
       "      <th>first_browser_rare_item</th>\n",
       "      <th>first_browser_nan</th>\n",
       "    </tr>\n",
       "  </thead>\n",
       "  <tbody>\n",
       "    <tr>\n",
       "      <th>0</th>\n",
       "      <td>gxn3p5htnn</td>\n",
       "      <td>NaN</td>\n",
       "      <td>465</td>\n",
       "      <td>2010</td>\n",
       "      <td>6</td>\n",
       "      <td>0</td>\n",
       "      <td>0</td>\n",
       "      <td>0</td>\n",
       "      <td>0</td>\n",
       "      <td>1</td>\n",
       "      <td>...</td>\n",
       "      <td>0</td>\n",
       "      <td>1</td>\n",
       "      <td>0</td>\n",
       "      <td>0</td>\n",
       "      <td>0</td>\n",
       "      <td>0</td>\n",
       "      <td>0</td>\n",
       "      <td>0</td>\n",
       "      <td>0</td>\n",
       "      <td>0</td>\n",
       "    </tr>\n",
       "    <tr>\n",
       "      <th>1</th>\n",
       "      <td>820tgsjxq7</td>\n",
       "      <td>38</td>\n",
       "      <td>731</td>\n",
       "      <td>2011</td>\n",
       "      <td>5</td>\n",
       "      <td>2</td>\n",
       "      <td>0</td>\n",
       "      <td>1</td>\n",
       "      <td>0</td>\n",
       "      <td>0</td>\n",
       "      <td>...</td>\n",
       "      <td>0</td>\n",
       "      <td>1</td>\n",
       "      <td>0</td>\n",
       "      <td>0</td>\n",
       "      <td>0</td>\n",
       "      <td>0</td>\n",
       "      <td>0</td>\n",
       "      <td>0</td>\n",
       "      <td>0</td>\n",
       "      <td>0</td>\n",
       "    </tr>\n",
       "    <tr>\n",
       "      <th>2</th>\n",
       "      <td>4ft3gnwmtx</td>\n",
       "      <td>56</td>\n",
       "      <td>475</td>\n",
       "      <td>2010</td>\n",
       "      <td>9</td>\n",
       "      <td>1</td>\n",
       "      <td>1</td>\n",
       "      <td>0</td>\n",
       "      <td>0</td>\n",
       "      <td>0</td>\n",
       "      <td>...</td>\n",
       "      <td>0</td>\n",
       "      <td>0</td>\n",
       "      <td>0</td>\n",
       "      <td>0</td>\n",
       "      <td>1</td>\n",
       "      <td>0</td>\n",
       "      <td>0</td>\n",
       "      <td>0</td>\n",
       "      <td>0</td>\n",
       "      <td>0</td>\n",
       "    </tr>\n",
       "    <tr>\n",
       "      <th>3</th>\n",
       "      <td>bjjt8pjhuk</td>\n",
       "      <td>42</td>\n",
       "      <td>764</td>\n",
       "      <td>2011</td>\n",
       "      <td>12</td>\n",
       "      <td>0</td>\n",
       "      <td>1</td>\n",
       "      <td>0</td>\n",
       "      <td>0</td>\n",
       "      <td>0</td>\n",
       "      <td>...</td>\n",
       "      <td>0</td>\n",
       "      <td>0</td>\n",
       "      <td>0</td>\n",
       "      <td>1</td>\n",
       "      <td>0</td>\n",
       "      <td>0</td>\n",
       "      <td>0</td>\n",
       "      <td>0</td>\n",
       "      <td>0</td>\n",
       "      <td>0</td>\n",
       "    </tr>\n",
       "    <tr>\n",
       "      <th>4</th>\n",
       "      <td>87mebub9p4</td>\n",
       "      <td>41</td>\n",
       "      <td>279</td>\n",
       "      <td>2010</td>\n",
       "      <td>9</td>\n",
       "      <td>1</td>\n",
       "      <td>0</td>\n",
       "      <td>0</td>\n",
       "      <td>0</td>\n",
       "      <td>1</td>\n",
       "      <td>...</td>\n",
       "      <td>0</td>\n",
       "      <td>1</td>\n",
       "      <td>0</td>\n",
       "      <td>0</td>\n",
       "      <td>0</td>\n",
       "      <td>0</td>\n",
       "      <td>0</td>\n",
       "      <td>0</td>\n",
       "      <td>0</td>\n",
       "      <td>0</td>\n",
       "    </tr>\n",
       "  </tbody>\n",
       "</table>\n",
       "<p>5 rows × 92 columns</p>\n",
       "</div>"
      ],
      "text/plain": [
       "           id  age  delta_create_active  date_account_created_year  \\\n",
       "0  gxn3p5htnn  NaN                  465                       2010   \n",
       "1  820tgsjxq7   38                  731                       2011   \n",
       "2  4ft3gnwmtx   56                  475                       2010   \n",
       "3  bjjt8pjhuk   42                  764                       2011   \n",
       "4  87mebub9p4   41                  279                       2010   \n",
       "\n",
       "   date_account_created_month  date_account_created_weekday  gender_FEMALE  \\\n",
       "0                           6                             0              0   \n",
       "1                           5                             2              0   \n",
       "2                           9                             1              1   \n",
       "3                          12                             0              1   \n",
       "4                           9                             1              0   \n",
       "\n",
       "   gender_MALE  gender_OTHER  gender_nan        ...          \\\n",
       "0            0             0           1        ...           \n",
       "1            1             0           0        ...           \n",
       "2            0             0           0        ...           \n",
       "3            0             0           0        ...           \n",
       "4            0             0           1        ...           \n",
       "\n",
       "   first_browser_Android Browser  first_browser_Chrome  \\\n",
       "0                              0                     1   \n",
       "1                              0                     1   \n",
       "2                              0                     0   \n",
       "3                              0                     0   \n",
       "4                              0                     1   \n",
       "\n",
       "   first_browser_Chrome Mobile  first_browser_Firefox  first_browser_IE  \\\n",
       "0                            0                      0                 0   \n",
       "1                            0                      0                 0   \n",
       "2                            0                      0                 1   \n",
       "3                            0                      1                 0   \n",
       "4                            0                      0                 0   \n",
       "\n",
       "   first_browser_Mobile Safari  first_browser_Opera  first_browser_Safari  \\\n",
       "0                            0                    0                     0   \n",
       "1                            0                    0                     0   \n",
       "2                            0                    0                     0   \n",
       "3                            0                    0                     0   \n",
       "4                            0                    0                     0   \n",
       "\n",
       "   first_browser_rare_item  first_browser_nan  \n",
       "0                        0                  0  \n",
       "1                        0                  0  \n",
       "2                        0                  0  \n",
       "3                        0                  0  \n",
       "4                        0                  0  \n",
       "\n",
       "[5 rows x 92 columns]"
      ]
     },
     "execution_count": 152,
     "metadata": {},
     "output_type": "execute_result"
    }
   ],
   "source": [
    "df_all.head()"
   ]
  },
  {
   "cell_type": "code",
   "execution_count": null,
   "metadata": {
    "collapsed": true
   },
   "outputs": [],
   "source": []
  }
 ],
 "metadata": {
  "kernelspec": {
   "display_name": "Python 2",
   "language": "python",
   "name": "python2"
  },
  "language_info": {
   "codemirror_mode": {
    "name": "ipython",
    "version": 2
   },
   "file_extension": ".py",
   "mimetype": "text/x-python",
   "name": "python",
   "nbconvert_exporter": "python",
   "pygments_lexer": "ipython2",
   "version": "2.7.10"
  }
 },
 "nbformat": 4,
 "nbformat_minor": 0
}
