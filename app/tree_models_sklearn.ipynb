{
 "cells": [
  {
   "cell_type": "code",
   "execution_count": null,
   "metadata": {
    "collapsed": true
   },
   "outputs": [],
   "source": [
    "import numpy as np\n",
    "import pandas as pd\n",
    "import xgboost as xgb\n",
    "from sklearn.preprocessing import LabelEncoder\n",
    "from sklearn.cross_validation import train_test_split\n",
    "%matplotlib inline\n",
    "\n",
    "le = LabelEncoder()\n",
    "\n",
    "df_train = pd.read_csv('data/train.csv', index_col='id')\n",
    "id_train = list(df_train.index)\n",
    "X_train = df_train.drop('country_destination', axis=1).values\n",
    "y_train = df_train['country_destination'].values\n",
    "y_train = le.fit_transform(y_train)\n",
    "\n",
    "df_test = pd.read_csv('data/test.csv', index_col='id')\n",
    "id_test = list(df_test.index)\n",
    "X_test = df_test.values\n",
    "\n",
    "X_train, X_val, y_train, y_val  = train_test_split(X_train, y_train, test_size=0.2)\n",
    "\n",
    "num_class = len(np.unique(y_train))\n",
    "features = df_test.columns"
   ]
  },
  {
   "cell_type": "markdown",
   "metadata": {},
   "source": [
    "# Training"
   ]
  },
  {
   "cell_type": "code",
   "execution_count": null,
   "metadata": {
    "collapsed": true
   },
   "outputs": [],
   "source": [
    "def ndcg_score(y_true, y_pred):\n",
    "    \"\"\"Normalized discounted cumulative gain (NDCG) at rank K=5.\"\"\"\n",
    "    gain = 0.\n",
    "    order = np.argsort(y_score)\n",
    "    n_samples = y_true.shape[0]\n",
    "    n_classes = y_score.shape[1]\n",
    "    for i in xrange(n_samples):        \n",
    "        index = n_classes - np.argwhere(order[i] == y_true[i])[0][0]\n",
    "        if index <= 5:\n",
    "            gain += 1/np.log2(index + 1)\n",
    "    return gain / n_samples\n",
    "\n",
    "def sklearn_ndcg(estimator, X, y):\n",
    "    y_pred = estimator.predict_proba(X)\n",
    "    return ndcg_score(y, y_pred)"
   ]
  },
  {
   "cell_type": "code",
   "execution_count": null,
   "metadata": {
    "collapsed": true
   },
   "outputs": [],
   "source": [
    "from sklearn.ensemble import RandomForestClassifier, ExtraTreesClassifier, GradientBoostingClassifier\n",
    "from sklearn.grid_search import GridSearchCV\n",
    "\n",
    "rf = RandomForestClassifier(n_estimators=50, criterion='gini', max_depth=5, min_samples_split=2, \n",
    "                             min_samples_leaf=1, min_weight_fraction_leaf=0.0, max_features='auto', \n",
    "                             max_leaf_nodes=None, bootstrap=True, oob_score=False, \n",
    "                             n_jobs=4, random_state=None, verbose=0, warm_start=False, class_weight=None)\n",
    "\n",
    "param_grid_rf = {'n_estimators': [50, 100],\n",
    "                 'criterion': ['gini', 'entropy'],\n",
    "                 'max_depth': [5, 10],\n",
    "                 'class_weight': [None, 'balanced']}\n",
    "\n",
    "et = ExtraTreesClassifier(n_estimators=10, criterion='gini', max_depth=None, min_samples_split=2, min_samples_leaf=1,\n",
    "                          min_weight_fraction_leaf=0.0, max_features='auto', max_leaf_nodes=None, bootstrap=False, \n",
    "                          oob_score=False, n_jobs=4, random_state=None, verbose=0, warm_start=False, class_weight=None)\n",
    "\n",
    "param_grid_et = {'n_estimators': [50, 100],\n",
    "                 'criterion': ['gini', 'entropy'],\n",
    "                 'max_depth': [5, 10],\n",
    "                 'class_weight': [None, 'balanced']}\n",
    "\n",
    "\n",
    "gbm = GradientBoostingClassifier(loss='deviance', learning_rate=0.1, n_estimators=100, subsample=1.0, \n",
    "                                 min_samples_split=2, min_samples_leaf=1, min_weight_fraction_leaf=0.0, \n",
    "                                 max_depth=3, init=None, random_state=None, max_features=None, verbose=0, \n",
    "                                 max_leaf_nodes=None, warm_start=False, presort='auto')\n",
    "\n",
    "param_grid_gbm = {#'learning_rate': #[0.05, 0.1, 0.2],\n",
    "                  'n_estimators': [50, 100],\n",
    "                  'max_depth': [3, 5]}\n",
    "\n",
    "\n",
    "clf = GridSearchCV(et, param_grid_et, scoring=sklearn_ndcg, fit_params=None, n_jobs=4, iid=True, \n",
    "                   refit=True, cv=None, verbose=0, pre_dispatch='2*n_jobs', error_score='raise')\n",
    "\n",
    "clf.fit(X_train, y_train)"
   ]
  },
  {
   "cell_type": "markdown",
   "metadata": {},
   "source": [
    "# Make submission"
   ]
  },
  {
   "cell_type": "code",
   "execution_count": null,
   "metadata": {
    "collapsed": true
   },
   "outputs": [],
   "source": [
    "y_pred = clf.predict_proba(X_test)\n",
    "\n",
    "#Taking the 5 classes with highest probabilities\n",
    "ids = []  #list of ids\n",
    "cts = []  #list of countries\n",
    "for i in range(len(id_test)):\n",
    "    idx = id_test[i]\n",
    "    ids += [idx] * 5\n",
    "    cts += le.inverse_transform(np.argsort(y_pred[i])[::-1])[:5].tolist()\n",
    "\n",
    "#Generate submission\n",
    "sub = pd.DataFrame(np.column_stack((ids, cts)), columns=['id', 'country'])\n",
    "sub.to_csv('out/submission.csv',index=False)"
   ]
  }
 ],
 "metadata": {
  "kernelspec": {
   "display_name": "Python 2",
   "language": "python",
   "name": "python2"
  },
  "language_info": {
   "codemirror_mode": {
    "name": "ipython",
    "version": 2
   },
   "file_extension": ".py",
   "mimetype": "text/x-python",
   "name": "python",
   "nbconvert_exporter": "python",
   "pygments_lexer": "ipython2",
   "version": "2.7.11"
  }
 },
 "nbformat": 4,
 "nbformat_minor": 0
}
